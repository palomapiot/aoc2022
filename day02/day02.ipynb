{
 "cells": [
  {
   "cell_type": "code",
   "execution_count": 18,
   "metadata": {},
   "outputs": [],
   "source": [
    "def read_input(filename):\n",
    "    with open(filename, 'r') as file:\n",
    "        data = [x.strip('\\n') for x in file]\n",
    "    return [list(e.split(' ')) for e in data]"
   ]
  },
  {
   "cell_type": "code",
   "execution_count": 39,
   "metadata": {},
   "outputs": [],
   "source": [
    "def day02():\n",
    "    data = read_input('day02.txt')\n",
    "    score = 0\n",
    "    rules = {\"X\": \"C\", \"Y\": \"A\", \"Z\": \"B\"}\n",
    "    draw = {\"X\": \"A\", \"Y\": \"B\", \"Z\": \"C\"}\n",
    "    play_score = {\"X\": 1, \"Y\": 2, \"Z\": 3}\n",
    "    for val in data:\n",
    "        score += play_score[val[1]]\n",
    "        if (val[0] == draw[val[1]]):\n",
    "            score += 3\n",
    "        if (val[0] == rules[val[1]]):\n",
    "            score += 6\n",
    "    return score"
   ]
  },
  {
   "cell_type": "code",
   "execution_count": 40,
   "metadata": {},
   "outputs": [
    {
     "name": "stdout",
     "output_type": "stream",
     "text": [
      "15422\n",
      "--- 0.002855062484741211 seconds ---\n"
     ]
    }
   ],
   "source": [
    "import time\n",
    "\n",
    "start_time = time.time()\n",
    "print(day02())\n",
    "print(\"--- %s seconds ---\" % (time.time() - start_time))"
   ]
  },
  {
   "cell_type": "code",
   "execution_count": 50,
   "metadata": {},
   "outputs": [],
   "source": [
    "def day02_b():\n",
    "    data = read_input('day02.txt')\n",
    "    score = 0\n",
    "    rules = {\"A X\": 3, \"A Y\": 4, \"A Z\": 8, \"B X\": 1, \"B Y\": 5, \"B Z\": 9, \"C X\": 2, \"C Y\": 6, \"C Z\": 7}\n",
    "    for val in data:\n",
    "        score += rules[val[0] + ' ' + val[1]]\n",
    "    return score"
   ]
  },
  {
   "cell_type": "code",
   "execution_count": 51,
   "metadata": {},
   "outputs": [
    {
     "name": "stdout",
     "output_type": "stream",
     "text": [
      "15442\n",
      "--- 0.003438711166381836 seconds ---\n"
     ]
    }
   ],
   "source": [
    "start_time = time.time()\n",
    "print(day02_b())\n",
    "print(\"--- %s seconds ---\" % (time.time() - start_time))"
   ]
  }
 ],
 "metadata": {
  "kernelspec": {
   "display_name": "Python 3.7.4 64-bit ('3.7.4')",
   "language": "python",
   "name": "python3"
  },
  "language_info": {
   "codemirror_mode": {
    "name": "ipython",
    "version": 3
   },
   "file_extension": ".py",
   "mimetype": "text/x-python",
   "name": "python",
   "nbconvert_exporter": "python",
   "pygments_lexer": "ipython3",
   "version": "3.7.4"
  },
  "orig_nbformat": 4,
  "vscode": {
   "interpreter": {
    "hash": "e0500b242f73804c2a1700872d34ffe46757bc8402c3beda62d5b10c02b7426f"
   }
  }
 },
 "nbformat": 4,
 "nbformat_minor": 2
}
