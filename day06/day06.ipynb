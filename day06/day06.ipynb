{
 "cells": [
  {
   "cell_type": "code",
   "execution_count": 3,
   "metadata": {},
   "outputs": [],
   "source": [
    "def read_input(filename):\n",
    "    with open(filename, 'r') as file:\n",
    "        input = file.read()\n",
    "    return list(input.strip('\\n').split('\\n\\n')[0])"
   ]
  },
  {
   "cell_type": "code",
   "execution_count": 4,
   "metadata": {},
   "outputs": [],
   "source": [
    "def day06(pos):\n",
    "    stack = []\n",
    "    data = read_input('day06.txt')\n",
    "    stack.extend(data[:pos])\n",
    "    for i in range(pos, len(data), 1):\n",
    "        stack.append(data[i])\n",
    "        if len(stack) == len(set(stack)):\n",
    "            return i + 1, stack\n",
    "        else:\n",
    "            del stack[0]"
   ]
  },
  {
   "cell_type": "code",
   "execution_count": 5,
   "metadata": {},
   "outputs": [
    {
     "name": "stdout",
     "output_type": "stream",
     "text": [
      "(1544, ['t', 'h', 'w', 'r'])\n",
      "--- 0.0018889904022216797 seconds ---\n"
     ]
    }
   ],
   "source": [
    "import time\n",
    "\n",
    "start_time = time.time() \n",
    "print(day06(3))\n",
    "print(\"--- %s seconds ---\" % (time.time() - start_time))"
   ]
  },
  {
   "cell_type": "code",
   "execution_count": 6,
   "metadata": {},
   "outputs": [
    {
     "name": "stdout",
     "output_type": "stream",
     "text": [
      "(2145, ['r', 'l', 'd', 'c', 'h', 'z', 't', 'm', 'w', 'f', 'j', 'v', 'n', 'q'])\n",
      "--- 0.0028531551361083984 seconds ---\n"
     ]
    }
   ],
   "source": [
    "start_time = time.time()\n",
    "print(day06(13))\n",
    "print(\"--- %s seconds ---\" % (time.time() - start_time))"
   ]
  }
 ],
 "metadata": {
  "kernelspec": {
   "display_name": "Python 3.7.4 64-bit ('3.7.4')",
   "language": "python",
   "name": "python3"
  },
  "language_info": {
   "codemirror_mode": {
    "name": "ipython",
    "version": 3
   },
   "file_extension": ".py",
   "mimetype": "text/x-python",
   "name": "python",
   "nbconvert_exporter": "python",
   "pygments_lexer": "ipython3",
   "version": "3.7.4"
  },
  "orig_nbformat": 4,
  "vscode": {
   "interpreter": {
    "hash": "e0500b242f73804c2a1700872d34ffe46757bc8402c3beda62d5b10c02b7426f"
   }
  }
 },
 "nbformat": 4,
 "nbformat_minor": 2
}
