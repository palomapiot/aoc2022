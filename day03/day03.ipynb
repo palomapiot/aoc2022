{
 "cells": [
  {
   "cell_type": "code",
   "execution_count": 1,
   "metadata": {},
   "outputs": [],
   "source": [
    "def read_input(filename):\n",
    "    with open(filename, 'r') as file:\n",
    "        data = [x.strip('\\n') for x in file]\n",
    "    return data"
   ]
  },
  {
   "cell_type": "code",
   "execution_count": 6,
   "metadata": {},
   "outputs": [],
   "source": [
    "def day03():\n",
    "    data = read_input('day03.txt')\n",
    "    total = 0\n",
    "    for item in data:\n",
    "        common = set(item[:len(item) // 2]).intersection(item[len(item) // 2:])\n",
    "        char = next(iter(common))\n",
    "        if (char.islower()):\n",
    "            total += ord(char) - 96\n",
    "        else:\n",
    "            total += ord(char) - 38\n",
    "    return total"
   ]
  },
  {
   "cell_type": "code",
   "execution_count": 7,
   "metadata": {},
   "outputs": [
    {
     "name": "stdout",
     "output_type": "stream",
     "text": [
      "7908\n",
      "--- 0.002190828323364258 seconds ---\n"
     ]
    }
   ],
   "source": [
    "import time\n",
    "\n",
    "start_time = time.time()\n",
    "print(day03())\n",
    "print(\"--- %s seconds ---\" % (time.time() - start_time))"
   ]
  },
  {
   "cell_type": "code",
   "execution_count": 4,
   "metadata": {},
   "outputs": [],
   "source": [
    "def day03_b():\n",
    "    data = read_input('day03.txt')\n",
    "    total = 0\n",
    "    for i in range(2, len(data), 3):\n",
    "        strings = [data[i], data[i - 1], data[i - 2]]\n",
    "        common = set.intersection(*map(set, strings))\n",
    "        char = next(iter(common))\n",
    "        if (char.islower()):\n",
    "            total += ord(char) - 96\n",
    "        else:\n",
    "            total += ord(char) - 38\n",
    "    return total"
   ]
  },
  {
   "cell_type": "code",
   "execution_count": 5,
   "metadata": {},
   "outputs": [
    {
     "name": "stdout",
     "output_type": "stream",
     "text": [
      "2838\n",
      "--- 0.0024340152740478516 seconds ---\n"
     ]
    }
   ],
   "source": [
    "start_time = time.time()\n",
    "print(day03_b())\n",
    "print(\"--- %s seconds ---\" % (time.time() - start_time))"
   ]
  }
 ],
 "metadata": {
  "kernelspec": {
   "display_name": "Python 3.7.4 64-bit ('3.7.4')",
   "language": "python",
   "name": "python3"
  },
  "language_info": {
   "codemirror_mode": {
    "name": "ipython",
    "version": 3
   },
   "file_extension": ".py",
   "mimetype": "text/x-python",
   "name": "python",
   "nbconvert_exporter": "python",
   "pygments_lexer": "ipython3",
   "version": "3.7.4"
  },
  "orig_nbformat": 4,
  "vscode": {
   "interpreter": {
    "hash": "e0500b242f73804c2a1700872d34ffe46757bc8402c3beda62d5b10c02b7426f"
   }
  }
 },
 "nbformat": 4,
 "nbformat_minor": 2
}
