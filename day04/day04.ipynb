{
 "cells": [
  {
   "cell_type": "code",
   "execution_count": 1,
   "metadata": {},
   "outputs": [],
   "source": [
    "def read_input(filename):\n",
    "    with open(filename, 'r') as file:\n",
    "        data = [x.strip('\\n') for x in file]\n",
    "    return data"
   ]
  },
  {
   "cell_type": "code",
   "execution_count": 8,
   "metadata": {},
   "outputs": [],
   "source": [
    "def day04():\n",
    "    total = 0\n",
    "    data = read_input('day04.txt')\n",
    "    for item in data:\n",
    "        ab = item.split(',')[0].strip()\n",
    "        cd = item.split(',')[1].strip()\n",
    "        a = int(ab.split('-')[0])\n",
    "        b = int(ab.split('-')[1])\n",
    "        c = int(cd.split('-')[0])\n",
    "        d = int(cd.split('-')[1])\n",
    "        if (a <=c and b >= d or c <= a and d >= b):\n",
    "            total += 1\n",
    "    return total"
   ]
  },
  {
   "cell_type": "code",
   "execution_count": 9,
   "metadata": {},
   "outputs": [
    {
     "name": "stdout",
     "output_type": "stream",
     "text": [
      "471\n",
      "--- 0.0031800270080566406 seconds ---\n"
     ]
    }
   ],
   "source": [
    "import time\n",
    "\n",
    "start_time = time.time()\n",
    "print(day04())\n",
    "print(\"--- %s seconds ---\" % (time.time() - start_time))"
   ]
  },
  {
   "cell_type": "code",
   "execution_count": 10,
   "metadata": {},
   "outputs": [],
   "source": [
    "def day04_b():\n",
    "    total = 0\n",
    "    data = read_input('day04.txt')\n",
    "    for item in data:\n",
    "        ab = item.split(',')[0].strip()\n",
    "        cd = item.split(',')[1].strip()\n",
    "        a = int(ab.split('-')[0])\n",
    "        b = int(ab.split('-')[1])\n",
    "        c = int(cd.split('-')[0])\n",
    "        d = int(cd.split('-')[1])\n",
    "        if (c >= a and c <= b or a >= c and a <= d):\n",
    "            total += 1\n",
    "    return total"
   ]
  },
  {
   "cell_type": "code",
   "execution_count": 11,
   "metadata": {},
   "outputs": [
    {
     "name": "stdout",
     "output_type": "stream",
     "text": [
      "888\n",
      "--- 0.0035240650177001953 seconds ---\n"
     ]
    }
   ],
   "source": [
    "start_time = time.time()\n",
    "print(day04_b())\n",
    "print(\"--- %s seconds ---\" % (time.time() - start_time))"
   ]
  }
 ],
 "metadata": {
  "kernelspec": {
   "display_name": "Python 3.7.4 64-bit ('3.7.4')",
   "language": "python",
   "name": "python3"
  },
  "language_info": {
   "codemirror_mode": {
    "name": "ipython",
    "version": 3
   },
   "file_extension": ".py",
   "mimetype": "text/x-python",
   "name": "python",
   "nbconvert_exporter": "python",
   "pygments_lexer": "ipython3",
   "version": "3.7.4"
  },
  "orig_nbformat": 4,
  "vscode": {
   "interpreter": {
    "hash": "e0500b242f73804c2a1700872d34ffe46757bc8402c3beda62d5b10c02b7426f"
   }
  }
 },
 "nbformat": 4,
 "nbformat_minor": 2
}
