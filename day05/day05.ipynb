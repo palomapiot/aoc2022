{
 "cells": [
  {
   "cell_type": "code",
   "execution_count": 53,
   "metadata": {},
   "outputs": [],
   "source": [
    "def read_moves(filename):\n",
    "    with open(filename, 'r') as file:\n",
    "        input = file.read()\n",
    "    data = input.strip('\\n').split('\\n\\n')\n",
    "    return data[1].strip('\\n').split('\\n')\n",
    "\n",
    "def read_stacks(filename):\n",
    "    with open(filename, 'r') as file:\n",
    "        input = file.read()\n",
    "    data = input.strip('\\n').split('\\n\\n')\n",
    "    o_stacks = data[0].split('\\n')[:-1]\n",
    "    nr_stacks = int(len(o_stacks[0]) / 4) + 1\n",
    "    stacks = [[] for _ in range(nr_stacks)]\n",
    "    for stack in reversed(o_stacks):\n",
    "        for i in range(nr_stacks):\n",
    "            if (stack[1 + 4 * i] != ' '):\n",
    "                stacks[i].extend(stack[1 + 4 * i])\n",
    "    return stacks"
   ]
  },
  {
   "cell_type": "code",
   "execution_count": 55,
   "metadata": {},
   "outputs": [],
   "source": [
    "def day05():\n",
    "    moves = read_moves('day05.txt')\n",
    "    stacks = read_stacks('day05.txt')\n",
    "    for move in moves:\n",
    "        nr = int(move.split(' ')[1])\n",
    "        s_from = int(move.split(' ')[3]) - 1\n",
    "        s_to = int(move.split(' ')[5]) - 1\n",
    "        for i in range(nr):\n",
    "            el = stacks[s_from].pop()\n",
    "            stacks[s_to].append(el)\n",
    "    sol = ''\n",
    "    for stack in stacks:\n",
    "        sol += stack[len(stack) - 1]\n",
    "    return sol"
   ]
  },
  {
   "cell_type": "code",
   "execution_count": 56,
   "metadata": {},
   "outputs": [
    {
     "name": "stdout",
     "output_type": "stream",
     "text": [
      "RLFNRTNFB\n",
      "--- 0.0026378631591796875 seconds ---\n"
     ]
    }
   ],
   "source": [
    "import time\n",
    "\n",
    "start_time = time.time()\n",
    "print(day05())\n",
    "print(\"--- %s seconds ---\" % (time.time() - start_time))"
   ]
  },
  {
   "cell_type": "code",
   "execution_count": 57,
   "metadata": {},
   "outputs": [],
   "source": [
    "def day05_b():\n",
    "    moves = read_moves('day05.txt')\n",
    "    stacks = read_stacks('day05.txt')\n",
    "    for move in moves:\n",
    "        nr = int(move.split(' ')[1])\n",
    "        s_from = int(move.split(' ')[3]) - 1\n",
    "        s_to = int(move.split(' ')[5]) - 1\n",
    "        to_move = stacks[s_from][-nr:]\n",
    "        del stacks[s_from][-nr:]\n",
    "        stacks[s_to].extend(to_move)\n",
    "    sol = ''\n",
    "    for stack in stacks:\n",
    "        sol += stack[len(stack) - 1]\n",
    "    return sol"
   ]
  },
  {
   "cell_type": "code",
   "execution_count": 58,
   "metadata": {},
   "outputs": [
    {
     "name": "stdout",
     "output_type": "stream",
     "text": [
      "MHQTLJRLB\n",
      "--- 0.002187967300415039 seconds ---\n"
     ]
    }
   ],
   "source": [
    "start_time = time.time()\n",
    "print(day05_b())\n",
    "print(\"--- %s seconds ---\" % (time.time() - start_time))"
   ]
  }
 ],
 "metadata": {
  "kernelspec": {
   "display_name": "Python 3.7.4 64-bit ('3.7.4')",
   "language": "python",
   "name": "python3"
  },
  "language_info": {
   "codemirror_mode": {
    "name": "ipython",
    "version": 3
   },
   "file_extension": ".py",
   "mimetype": "text/x-python",
   "name": "python",
   "nbconvert_exporter": "python",
   "pygments_lexer": "ipython3",
   "version": "3.7.4"
  },
  "orig_nbformat": 4,
  "vscode": {
   "interpreter": {
    "hash": "e0500b242f73804c2a1700872d34ffe46757bc8402c3beda62d5b10c02b7426f"
   }
  }
 },
 "nbformat": 4,
 "nbformat_minor": 2
}
